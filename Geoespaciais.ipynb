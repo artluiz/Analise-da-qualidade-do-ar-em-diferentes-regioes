{
 "cells": [
  {
   "cell_type": "code",
   "execution_count": 3,
   "metadata": {},
   "outputs": [
    {
     "ename": "SyntaxError",
     "evalue": "(unicode error) 'unicodeescape' codec can't decode bytes in position 2-3: truncated \\UXXXXXXXX escape (4281824882.py, line 21)",
     "output_type": "error",
     "traceback": [
      "\u001b[1;36m  Cell \u001b[1;32mIn[3], line 21\u001b[1;36m\u001b[0m\n\u001b[1;33m    diretorio = 'C:\\Users\\kirit\\CTD'\u001b[0m\n\u001b[1;37m                                    ^\u001b[0m\n\u001b[1;31mSyntaxError\u001b[0m\u001b[1;31m:\u001b[0m (unicode error) 'unicodeescape' codec can't decode bytes in position 2-3: truncated \\UXXXXXXXX escape\n"
     ]
    }
   ],
   "source": [
    "import pandas as pd\n",
    "import glob\n",
    "\n",
    "def convert_xlsx_to_csv(xlsx_file):\n",
    "    # Carrega o arquivo Excel\n",
    "    xls = pd.ExcelFile('Estação_Alterosa_2021_-_Betim_-_Regap.xlsx')\n",
    "\n",
    "    # Itera sobre todas as abas do arquivo Excel\n",
    "    for sheet_name in xls.sheet_names:\n",
    "        # Lê a aba atual em um DataFrame\n",
    "        df = pd.read_excel(xls, sheet_name=sheet_name)\n",
    "\n",
    "        # Define o nome do arquivo CSV a ser gerado\n",
    "        csv_file = f'{xlsx_file}_{sheet_name}.csv'\n",
    "\n",
    "        # Salva o DataFrame como arquivo CSV\n",
    "        df.to_csv(csv_file, index=False)\n",
    "        print(f'Arquivo \"{csv_file}\" gerado com sucesso.')\n",
    "\n",
    "# Diretório onde estão localizados os arquivos .xlsx\n",
    "diretorio = 'C:\\Users\\kirit\\CTD'\n",
    "\n",
    "# Localiza todos os arquivos .xlsx no diretório especificado\n",
    "arquivos_xlsx = glob.glob(diretorio + '*.xlsx')\n",
    "\n",
    "# Itera sobre os arquivos .xlsx encontrados\n",
    "for arquivo_xlsx in arquivos_xlsx:\n",
    "    # Converte cada arquivo .xlsx para .csv\n",
    "    convert_xlsx_to_csv(arquivo_xlsx)"
   ]
  }
 ],
 "metadata": {
  "kernelspec": {
   "display_name": "Python 3",
   "language": "python",
   "name": "python3"
  },
  "language_info": {
   "codemirror_mode": {
    "name": "ipython",
    "version": 3
   },
   "file_extension": ".py",
   "mimetype": "text/x-python",
   "name": "python",
   "nbconvert_exporter": "python",
   "pygments_lexer": "ipython3",
   "version": "3.11.3"
  },
  "orig_nbformat": 4
 },
 "nbformat": 4,
 "nbformat_minor": 2
}
