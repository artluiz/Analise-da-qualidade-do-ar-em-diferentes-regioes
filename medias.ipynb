{
 "cells": [
  {
   "cell_type": "code",
   "execution_count": 1,
   "metadata": {},
   "outputs": [
    {
     "name": "stdout",
     "output_type": "stream",
     "text": [
      "Requirement already satisfied: pandas in c:\\users\\eumgu\\appdata\\local\\packages\\pythonsoftwarefoundation.python.3.10_qbz5n2kfra8p0\\localcache\\local-packages\\python310\\site-packages (1.5.2)\n",
      "Requirement already satisfied: pytz>=2020.1 in c:\\users\\eumgu\\appdata\\local\\packages\\pythonsoftwarefoundation.python.3.10_qbz5n2kfra8p0\\localcache\\local-packages\\python310\\site-packages (from pandas) (2022.7.1)\n",
      "Requirement already satisfied: numpy>=1.21.0 in c:\\users\\eumgu\\appdata\\local\\packages\\pythonsoftwarefoundation.python.3.10_qbz5n2kfra8p0\\localcache\\local-packages\\python310\\site-packages (from pandas) (1.24.1)\n",
      "Requirement already satisfied: python-dateutil>=2.8.1 in c:\\users\\eumgu\\appdata\\local\\packages\\pythonsoftwarefoundation.python.3.10_qbz5n2kfra8p0\\localcache\\local-packages\\python310\\site-packages (from pandas) (2.8.2)\n",
      "Requirement already satisfied: six>=1.5 in c:\\users\\eumgu\\appdata\\local\\packages\\pythonsoftwarefoundation.python.3.10_qbz5n2kfra8p0\\localcache\\local-packages\\python310\\site-packages (from python-dateutil>=2.8.1->pandas) (1.16.0)\n"
     ]
    },
    {
     "name": "stderr",
     "output_type": "stream",
     "text": [
      "\n",
      "[notice] A new release of pip is available: 23.0.1 -> 23.1.2\n",
      "[notice] To update, run: C:\\Users\\eumgu\\AppData\\Local\\Microsoft\\WindowsApps\\PythonSoftwareFoundation.Python.3.10_qbz5n2kfra8p0\\python.exe -m pip install --upgrade pip\n"
     ]
    }
   ],
   "source": [
    "!pip install pandas"
   ]
  },
  {
   "cell_type": "code",
   "execution_count": null,
   "metadata": {},
   "outputs": [],
   "source": []
  },
  {
   "attachments": {},
   "cell_type": "markdown",
   "metadata": {},
   "source": [
    "CONVERTE E FAZ MÉDIA"
   ]
  },
  {
   "cell_type": "code",
   "execution_count": 2,
   "metadata": {},
   "outputs": [
    {
     "name": "stdout",
     "output_type": "stream",
     "text": [
      "         Estacao Poluente        Data Unidade      Valor\n",
      "0  Aeroporto CMD     MP10  2020-01-01   µg/m3  29.875000\n",
      "1  Aeroporto CMD     MP10  2020-01-02   µg/m3  22.958333\n",
      "2  Aeroporto CMD     MP10  2020-01-03   µg/m3  26.250000\n",
      "3  Aeroporto CMD     MP10  2020-01-04   µg/m3  24.142857\n",
      "4  Aeroporto CMD     MP10  2020-01-05   µg/m3  20.272727\n"
     ]
    }
   ],
   "source": [
    "import pandas as pd\n",
    "\n",
    "def convert_xlsx_to_csv(xlsx_file, csv_file):\n",
    "    # Lê o arquivo .xlsx\n",
    "    df = pd.read_excel(xlsx_file)\n",
    "    \n",
    "    # Salva o DataFrame em um arquivo .csv\n",
    "    df.to_csv(csv_file, index=False)\n",
    "\n",
    "# Caminho para o arquivo .xlsx de entrada\n",
    "xlsx_file = 'caminho/para/arquivo.xlsx'\n",
    "\n",
    "# Caminho para o arquivo .csv de saída\n",
    "csv_file = 'caminho/para/arquivo.csv'\n",
    "\n",
    "# Chama a função para converter o arquivo\n",
    "convert_xlsx_to_csv(xlsx_file, csv_file)\n",
    "\n",
    "# Carrega o arquivo CSV em um DataFrame\n",
    "df = pd.read_csv(csv_file, encoding='latin1')\n",
    "\n",
    "# Concatena as colunas 'Data' e 'Hora' em um objeto datetime e armazena em uma nova coluna 'DataHora'\n",
    "df['DataHora'] = pd.to_datetime(df['Data'] + ' ' + df['Hora'], format='%Y-%m-%d %H:%M:%S')\n",
    "\n",
    "# Cria uma nova coluna 'Data' apenas com a data sem as horas\n",
    "df['Data'] = df['DataHora'].dt.date\n",
    "\n",
    "# Agrupa os dados por 'Estacao', 'Poluente', 'Data' e 'Unidade', calculando a média da coluna 'Valor'\n",
    "df_media = df.groupby(['Estacao', 'Poluente', 'Data', 'Unidade'])['Valor'].mean().reset_index()\n",
    "\n",
    "# Imprime o DataFrame com as médias calculadas\n",
    "print(df_media.head())\n",
    "\n"
   ]
  },
  {
   "cell_type": "code",
   "execution_count": 17,
   "metadata": {},
   "outputs": [],
   "source": [
    "df_media.to_csv('media_poluicao2.csv', index=False)"
   ]
  }
 ],
 "metadata": {
  "kernelspec": {
   "display_name": "Python 3",
   "language": "python",
   "name": "python3"
  },
  "language_info": {
   "codemirror_mode": {
    "name": "ipython",
    "version": 3
   },
   "file_extension": ".py",
   "mimetype": "text/x-python",
   "name": "python",
   "nbconvert_exporter": "python",
   "pygments_lexer": "ipython3",
   "version": "3.10.11"
  },
  "orig_nbformat": 4
 },
 "nbformat": 4,
 "nbformat_minor": 2
}
