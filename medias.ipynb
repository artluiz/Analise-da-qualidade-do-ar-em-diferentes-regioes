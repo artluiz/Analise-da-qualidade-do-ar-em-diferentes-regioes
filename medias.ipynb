{
 "cells": [
  {
   "attachments": {},
   "cell_type": "markdown",
   "metadata": {},
   "source": [
    "CONVERTE E FAZ MÉDIA"
   ]
  },
  {
   "cell_type": "code",
   "execution_count": 2,
   "metadata": {},
   "outputs": [
    {
     "name": "stdout",
     "output_type": "stream",
     "text": [
      "         Estacao Poluente        Data Unidade      Valor\n",
      "0  Aeroporto CMD     MP10  2020-01-01   µg/m3  29.875000\n",
      "1  Aeroporto CMD     MP10  2020-01-02   µg/m3  22.958333\n",
      "2  Aeroporto CMD     MP10  2020-01-03   µg/m3  26.250000\n",
      "3  Aeroporto CMD     MP10  2020-01-04   µg/m3  24.142857\n",
      "4  Aeroporto CMD     MP10  2020-01-05   µg/m3  20.272727\n"
     ]
    }
   ],
   "source": [
    "import pandas as pd\n",
    "\n",
    "def convert_xlsx_to_csv(xlsx_file, csv_file):\n",
    "    # Lê o arquivo .xlsx\n",
    "    df = pd.read_excel(xlsx_file)\n",
    "    \n",
    "    # Salva o DataFrame em um arquivo .csv\n",
    "    df.to_csv(csv_file, index=False)\n",
    "\n",
    "# Caminho para o arquivo .xlsx de entrada\n",
    "xlsx_file = 'caminho/para/arquivo.xlsx'\n",
    "\n",
    "# Caminho para o arquivo .csv de saída\n",
    "csv_file = 'caminho/para/arquivo.csv'\n",
    "\n",
    "# Chama a função para converter o arquivo\n",
    "convert_xlsx_to_csv(xlsx_file, csv_file)\n",
    "\n",
    "# Carrega o arquivo CSV em um DataFrame\n",
    "df = pd.read_csv(csv_file, encoding='latin1')\n",
    "\n",
    "# Concatena as colunas 'Data' e 'Hora' em um objeto datetime e armazena em uma nova coluna 'DataHora'\n",
    "df['DataHora'] = pd.to_datetime(df['Data'] + ' ' + df['Hora'], format='%Y-%m-%d %H:%M:%S')\n",
    "\n",
    "# Cria uma nova coluna 'Data' apenas com a data sem as horas\n",
    "df['Data'] = df['DataHora'].dt.date\n",
    "\n",
    "# Agrupa os dados por 'Estacao', 'Poluente', 'Data' e 'Unidade', calculando a média da coluna 'Valor'\n",
    "df_media = df.groupby(['Estacao', 'Poluente', 'Data', 'Unidade'])['Valor'].mean().reset_index()\n",
    "\n",
    "# Imprime o DataFrame com as médias calculadas\n",
    "print(df_media.head())\n",
    "\n"
   ]
  },
  {
   "cell_type": "code",
   "execution_count": 17,
   "metadata": {},
   "outputs": [],
   "source": [
    "df_media.to_csv('media_poluicao2.csv', index=False)"
   ]
  }
 ],
 "metadata": {
  "kernelspec": {
   "display_name": "Python 3",
   "language": "python",
   "name": "python3"
  },
  "language_info": {
   "codemirror_mode": {
    "name": "ipython",
    "version": 3
   },
   "file_extension": ".py",
   "mimetype": "text/x-python",
   "name": "python",
   "nbconvert_exporter": "python",
   "pygments_lexer": "ipython3",
   "version": "3.10.11"
  },
  "orig_nbformat": 4
 },
 "nbformat": 4,
 "nbformat_minor": 2
}
